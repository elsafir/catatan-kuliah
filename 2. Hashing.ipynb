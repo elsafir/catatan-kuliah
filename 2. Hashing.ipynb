{
 "cells": [
  {
   "attachments": {},
   "cell_type": "markdown",
   "metadata": {},
   "source": [
    "hashing adalah mengubah suatu string menjadi suatu bilangan dengan suatu fungsi. hashing memiliki sistem pengisian pada slot kosong. hashing memiliki sebuah kondisi dimana dua item hash ke slot yang sama, kita harus memiliki metode sistematis untuk menempatkan item kedua di tabel hash yang di sebut collusion.\n",
    "\n",
    "cara memecahkan permasalahan collusion di bagi menjadi 2:\n",
    "\n",
    "1. open address: dalam mencoba untuk menemukan slot terbuka berikutnya atau alamat dalam tabel hash.\n",
    "    \n",
    "    pada open address terdapat 2 solusi antara lain:\n",
    "\n",
    "    - Linear Probbing: kami melihat secara berurutan, slot demi slot, hingga kami menemukan posisi terbuka.\n",
    "\n",
    "    - quadratic probing: Ini berarti bahwa jika nilai hash pertama adalah h, nilai berturut-turut adalah h + 1, h + 4, h + 9, h + 16. begitu seterusnya\n",
    "\n",
    "2. close address, metode close address dapat di sebut juga dengan metode chaining.\n",
    "  \n",
    "      - Chaining sendiri merupakan kondisi yang memungkinkan banyak item ada di lokasi yang sama di tabel hash. Ketika tabrakan terjadi, item tersebut masih ditempatkan di slot yang tepat dari tabel hash\n"
   ]
  },
  {
   "cell_type": "markdown",
   "metadata": {},
   "source": [
    "1. open address\n",
    "    a. linear probbing"
   ]
  },
  {
   "cell_type": "code",
   "execution_count": 7,
   "metadata": {},
   "outputs": [
    {
     "name": "stdout",
     "output_type": "stream",
     "text": [
      "[None, None, None, None, None, None, None, None, None, None, None]\n",
      "[None, None, None, None, None, None, None, None, None, None, 54]\n",
      "[None, None, None, None, 26, None, None, None, None, None, 54]\n",
      "[None, None, None, None, 26, 93, None, None, None, None, 54]\n",
      "[None, None, None, None, 26, 93, 17, None, None, None, 54]\n",
      "[77, None, None, None, 26, 93, 17, None, None, None, 54]\n",
      "[77, None, None, None, 26, 93, 17, None, None, 31, 54]\n",
      "[77, None, None, None, 26, 93, 17, None, 44, 31, 54]\n",
      "[77, None, None, None, 26, 93, 17, 55, 44, 31, 54]\n",
      "[77, None, None, 20, 26, 93, 17, 55, 44, 31, 54]\n",
      "[77, None, 25, 20, 26, 93, 17, 55, 44, 31, 54]\n"
     ]
    }
   ],
   "source": [
    "table = [None]*11\n",
    "def hash(x):\n",
    "    return x % 11\n",
    "def insert(table,key, value):\n",
    "    index = hash (key)\n",
    "    if table [index] == None :\n",
    "        table[index] = value\n",
    "    else:\n",
    "        collusion=index\n",
    "        found = False\n",
    "        ind=collusion - 1\n",
    "        if ind== len(table)-1:\n",
    "            ind=0\n",
    "        while ind<=len (table)-1 and not (found) :\n",
    "            if table [ind] == None :\n",
    "                found=True\n",
    "                table[ind]=value\n",
    "            ind=ind-1\n",
    "print(table)\n",
    "insert(table,54,54)\n",
    "print(table)\n",
    "insert(table,26,26)\n",
    "print(table)\n",
    "insert(table,93,93)\n",
    "print(table)\n",
    "insert(table,17,17)\n",
    "print(table)\n",
    "insert(table,77,77)\n",
    "print(table)\n",
    "insert(table,31,31)\n",
    "print(table)\n",
    "insert(table,44,44)\n",
    "print(table)\n",
    "insert(table,55,55)\n",
    "print(table)\n",
    "insert(table,20,20)\n",
    "print(table)\n",
    "insert(table,25,25)\n",
    "print(table)"
   ]
  },
  {
   "cell_type": "markdown",
   "metadata": {},
   "source": [
    "b. quadratic probbing"
   ]
  },
  {
   "cell_type": "code",
   "execution_count": 2,
   "metadata": {},
   "outputs": [
    {
     "name": "stdout",
     "output_type": "stream",
     "text": [
      "[None, None, None, None, None, None, None, None, None, None, None]\n",
      "[None, None, None, None, None, None, None, None, None, None, 54]\n",
      "[None, None, None, None, 26, None, None, None, None, None, 54]\n",
      "[None, None, None, None, 26, '93', None, None, None, None, 54]\n",
      "[None, None, None, None, 26, '93', '17', None, None, None, 54]\n",
      "['77', None, None, None, 26, '93', '17', None, None, None, 54]\n",
      "['77', None, None, None, 26, '93', '17', None, None, '31', 54]\n",
      "['77', '44', None, None, 26, '93', '17', None, None, '31', 54]\n"
     ]
    }
   ],
   "source": [
    "table = [None] * 11\n",
    "def hash(x):\n",
    "  return x % 11\n",
    "\n",
    "\n",
    "def insert(table,key,value):\n",
    "  index = hash(key)\n",
    "  if table[index] == None:\n",
    "    table[index] = value\n",
    "  else:\n",
    "    collusion=index\n",
    "    found = False\n",
    "    i=1\n",
    "    ind = collusion+1\n",
    "\n",
    "    if ind > len(table)-1:\n",
    "        ind = 0\n",
    "\n",
    "    while (ind<=len(table)-1) and not(found):\n",
    "      if table[ind]== None:\n",
    "        found=True\n",
    "        table[ind]=value\n",
    "        ind = (collusion+(i*i)) % 11\n",
    "      i=i+1\n",
    "\n",
    "print(table)\n",
    "insert(table,54,54)\n",
    "print(table)\n",
    "insert(table,26,26)\n",
    "print(table)\n",
    "insert(table,93,'93')\n",
    "print(table)\n",
    "insert(table,17,'17')\n",
    "print(table)\n",
    "insert(table,77,'77')\n",
    "print(table)\n",
    "insert(table,31,'31')\n",
    "print(table)\n",
    "insert(table,44,'44')\n",
    "print(table)"
   ]
  },
  {
   "cell_type": "markdown",
   "metadata": {},
   "source": [
    "2. close address(chaining)"
   ]
  },
  {
   "cell_type": "code",
   "execution_count": 3,
   "metadata": {},
   "outputs": [
    {
     "name": "stdout",
     "output_type": "stream",
     "text": [
      "[[], [], [], [], [], [], [], []]\n",
      "[[], [], [], [], [], [], [54], []]\n",
      "[[], [], [26], [], [], [], [54], []]\n",
      "[[], [], [26], [], [], [93], [54], []]\n",
      "[[], [17], [26], [], [], [93], [54], []]\n",
      "[[], [17], [26], [], [], [93, 77], [54], []]\n",
      "[[32], [17], [26], [], [], [93, 77], [54], []]\n",
      "[[32], [17], [26], [], [44], [93, 77], [54], []]\n",
      "[[32], [17], [26], [51], [44], [93, 77], [54], []]\n",
      "[[32], [17], [26], [51], [44, 12], [93, 77], [54], []]\n"
     ]
    }
   ],
   "source": [
    "table = [ [] for i in range(8)]\n",
    "def hash(x):\n",
    "      return x % 8\n",
    "def insert(table,key,value):\n",
    "    table[hash(key)].append(value)\n",
    "    index = hash(key)\n",
    "    if table [index] == None :\n",
    "        table[index] = value\n",
    "    else:\n",
    "        collusion=index\n",
    "        found = False\n",
    "        ind=collusion + 1\n",
    "    if ind== len(table)-1:\n",
    "        ind=0\n",
    "    while ind<=len (table)-1 and not (found) :\n",
    "        if table [ind] == None :\n",
    "            found=True\n",
    "            table[ind]=value\n",
    "        ind=ind+1\n",
    "print(table)\n",
    "insert(table,54,54)\n",
    "print(table)\n",
    "insert(table,26,26)\n",
    "print(table)\n",
    "insert(table,93,93)\n",
    "print(table)\n",
    "insert(table,17,17)\n",
    "print(table)\n",
    "insert(table,77,77)\n",
    "print(table)\n",
    "insert(table,32,32)\n",
    "print(table)\n",
    "insert(table,44,44)\n",
    "print(table)\n",
    "insert (table,51,51)\n",
    "print(table)\n",
    "insert (table,12,12)\n",
    "print(table)\n"
   ]
  }
 ],
 "metadata": {
  "kernelspec": {
   "display_name": "Python 3",
   "language": "python",
   "name": "python3"
  },
  "language_info": {
   "codemirror_mode": {
    "name": "ipython",
    "version": 3
   },
   "file_extension": ".py",
   "mimetype": "text/x-python",
   "name": "python",
   "nbconvert_exporter": "python",
   "pygments_lexer": "ipython3",
   "version": "3.7.1"
  }
 },
 "nbformat": 4,
 "nbformat_minor": 2
}
