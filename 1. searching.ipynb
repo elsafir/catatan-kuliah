{
 "cells": [
  {
   "cell_type": "markdown",
   "metadata": {},
   "source": [
    "linear dan binary search"
   ]
  },
  {
   "cell_type": "markdown",
   "metadata": {},
   "source": [
    "a. linear search"
   ]
  },
  {
   "cell_type": "markdown",
   "metadata": {},
   "source": [
    "linear search adalah pencarian yang bisa di lakukan secara terurut maupun tidak terurut.\n",
    "\n",
    "linear search adalah metode untuk menemukan nilai target dalam daftar. Itu secara berurutan memeriksa setiap elemen dari daftar untuk nilai target sampai kecocokan ditemukan atau sampai semua elemen telah dicari."
   ]
  },
  {
   "cell_type": "code",
   "execution_count": 1,
   "metadata": {},
   "outputs": [
    {
     "name": "stdout",
     "output_type": "stream",
     "text": [
      "did not found the number.\n",
      "did not found the number.\n",
      "did not found the number.\n",
      "did not found the number.\n",
      "found the search number.\n",
      "1\n"
     ]
    }
   ],
   "source": [
    "search = 2\n",
    "mylist = [1,2,3,4,5,6]\n",
    "position = len (mylist)-1\n",
    "last=0\n",
    "found = False\n",
    "while position >= last and not found :\n",
    "    if mylist [position] == search :\n",
    "        found = True\n",
    "    else :\n",
    "        position = position - 1\n",
    "    if found :\n",
    "        print (\"found the search number.\")\n",
    "        print (position)\n",
    "    else :\n",
    "        print (\"did not found the number.\")"
   ]
  },
  {
   "cell_type": "markdown",
   "metadata": {},
   "source": [
    "b. binary search"
   ]
  },
  {
   "cell_type": "markdown",
   "metadata": {},
   "source": [
    "binary search adalah pencarian yang modelnya terbagi menjadi 2 dimana pencariannya wajib terurut karena akan dilakukan 2 pencarian.\n",
    "\n",
    "binary search membagi bilangan menjadi 2. kalau lebih kecil dari bilangan tengah maka posisi akhirnya ada di nilai tengah atau middle - 1. bilangan tengah di dapat dari indeks awal di tambah indeks akhir dibagi 2. ketika bilangan telah di bagi 2 dan bilangan yang di cari sebelum middle maka n diganti middle. kalau lebih dari pakai middle kalau kurang dari midle-1 atau middle + 1\n",
    "contoh : 3,7,9,15,100 (0 + 4): 2 = 2 jadi positionnya 2\n",
    "\n",
    "search lebih besar dari mid 3,7,9,15,100,180 awal = mid + 1= 2+1=3 akhir = len -1 = 5 mid = 3+5:2= 4\n",
    "\n",
    "search lebih kecil dari mid 3,4,9,10,18,20,25,30,37,42,85 mid =5 awal=0 akhir=mid-1=4 mid =2 awal=0 akhir= mid -1=1 mid=0+1:2=1/2"
   ]
  },
  {
   "cell_type": "code",
   "execution_count": 2,
   "metadata": {},
   "outputs": [
    {
     "name": "stdout",
     "output_type": "stream",
     "text": [
      "Posisi angka ditemukan\n",
      "1\n"
     ]
    }
   ],
   "source": [
    "cari = 2\n",
    "data = [1,2,3,4,5,6]\n",
    "\n",
    "# Algoritma\n",
    "bawah = 0\n",
    "atas = len(data)\n",
    "ketemu = False\n",
    "posisi = 0\n",
    "\n",
    "while (bawah != atas and not ketemu):\n",
    "    tengah = (atas + bawah) // 2\n",
    "    #print(bawah, tengah, atas)\n",
    "    nilai = data[tengah]\n",
    "    #print(cari, nilai)\n",
    "    if nilai==cari:\n",
    "        ketemu = True\n",
    "        posisi = tengah\n",
    "    elif nilai>cari:\n",
    "        atas = tengah\n",
    "    else:\n",
    "        bawah = tengah\n",
    "            \n",
    "if ketemu :\n",
    "    print (\"Posisi angka ditemukan\")\n",
    "    print (posisi)\n",
    "else :\n",
    "    print (\"Posisi Angka tidak ditemukan\")"
   ]
  }
 ],
 "metadata": {
  "kernelspec": {
   "display_name": "Python 3",
   "language": "python",
   "name": "python3"
  },
  "language_info": {
   "codemirror_mode": {
    "name": "ipython",
    "version": 3
   },
   "file_extension": ".py",
   "mimetype": "text/x-python",
   "name": "python",
   "nbconvert_exporter": "python",
   "pygments_lexer": "ipython3",
   "version": "3.7.1"
  }
 },
 "nbformat": 4,
 "nbformat_minor": 2
}
