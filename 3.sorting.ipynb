{
 "cells": [
  {
   "cell_type": "markdown",
   "metadata": {},
   "source": [
    "Pengurutan (Sorting) adalah proses menyusun kembali data yangsebelumnya telah disusun dengan suatu pola tertentu, sehingga tersusun secara teratur menurut aturan tertentu."
   ]
  },
  {
   "cell_type": "markdown",
   "metadata": {},
   "source": [
    "sorting di bagi menjadi 6 metode antara lain:\n",
    "1. bubble sort\n",
    "2. selection sort\n",
    "3. insertion sort\n",
    "4. quick sort\n",
    "5. merged sort\n",
    "6. shell sort"
   ]
  },
  {
   "cell_type": "markdown",
   "metadata": {},
   "source": [
    "1. bubble sort\n",
    "    adalah algoritma pengurutan sederhana yang berulang kali menelusuri daftar yang akan diurutkan, membandingkan setiap pasangan item yang berdekatan dan menukarnya jika urutannya salah."
   ]
  },
  {
   "cell_type": "code",
   "execution_count": 4,
   "metadata": {},
   "outputs": [
    {
     "name": "stdout",
     "output_type": "stream",
     "text": [
      "[5, 0, 1, 10, 7, 2, 5, 4, 6, 9]\n",
      "[0, 1, 5, 7, 2, 5, 4, 6, 9, 10]\n",
      "[0, 1, 5, 2, 5, 4, 6, 7, 9, 10]\n",
      "[0, 1, 2, 5, 4, 5, 6, 7, 9, 10]\n",
      "[0, 1, 2, 4, 5, 5, 6, 7, 9, 10]\n",
      "[0, 1, 2, 4, 5, 5, 6, 7, 9, 10]\n",
      "[0, 1, 2, 4, 5, 5, 6, 7, 9, 10]\n",
      "[0, 1, 2, 4, 5, 5, 6, 7, 9, 10]\n",
      "[0, 1, 2, 4, 5, 5, 6, 7, 9, 10]\n"
     ]
    }
   ],
   "source": [
    "lst = [5,0,1,10,7,2,5,4,6,9]\n",
    "for k in range(1,len(lst)):\n",
    "    print(lst)\n",
    "    for i in range(0,len(lst)-1):\n",
    "        if lst[i]>lst[i+1]:\n",
    "            lst[i],lst[i+1] = lst[i+1],lst[i]"
   ]
  },
  {
   "cell_type": "markdown",
   "metadata": {},
   "source": [
    "2. selection sort\n",
    "    menemukan nilai minimum dalam array dan memindahkannya ke posisi pertama. Langkah ini kemudian diulang untuk nilai terendah kedua, lalu yang ketiga, dan seterusnya hingga array diurutkan."
   ]
  },
  {
   "cell_type": "code",
   "execution_count": 6,
   "metadata": {},
   "outputs": [
    {
     "name": "stdout",
     "output_type": "stream",
     "text": [
      "[4, 7, 1, 9, 3, 10, 6]\n",
      "[1, 7, 4, 9, 3, 10, 6]\n",
      "[1, 3, 4, 9, 7, 10, 6]\n",
      "[1, 3, 4, 9, 7, 10, 6]\n",
      "[1, 3, 4, 6, 7, 10, 9]\n",
      "[1, 3, 4, 6, 7, 10, 9]\n"
     ]
    }
   ],
   "source": [
    "lst = [4,7,1,9,3,10,6]\n",
    "for i in range(0,len(lst)-1):\n",
    "    print (lst)\n",
    "    min=i\n",
    "    for j in range(i+1,len(lst)):\n",
    "        if lst[j]<lst[min]:\n",
    "            min = j\n",
    "\n",
    "    lst[i],lst[min]=lst[min],lst[i]"
   ]
  },
  {
   "cell_type": "markdown",
   "metadata": {},
   "source": [
    "3. insertion sort\n",
    "    selalu mempertahankan sublist yang diurutkan di posisi bawah daftar. Setiap item baru kemudian \"dimasukkan\" kembali ke sublist sebelumnya sehingga sublist yang diurutkan adalah satu item lebih besar."
   ]
  },
  {
   "cell_type": "code",
   "execution_count": 8,
   "metadata": {},
   "outputs": [
    {
     "name": "stdout",
     "output_type": "stream",
     "text": [
      "[4, 7, 1, 0]\n",
      "[4, 7, 1, 0]\n",
      "[1, 4, 7, 0]\n"
     ]
    }
   ],
   "source": [
    "lst = [4,7,1,0]\n",
    "\n",
    "for i in range(1,len(lst)):\n",
    "    print (lst)\n",
    "    nilaiawal = lst[ i]\n",
    "    hole = i\n",
    "    while lst[hole-1] > nilaiawal and hole > 0   :\n",
    "        lst[hole] = lst[hole-1]\n",
    "        hole=hole-1\n",
    "\n",
    "    lst[hole] = nilaiawal"
   ]
  },
  {
   "cell_type": "markdown",
   "metadata": {},
   "source": [
    "4.Quicksort \n",
    "    adalah algoritma penyortiran populer yang sering kali lebih cepat dalam praktiknya dibandingkan dengan algoritma penyortiran lainnya. Ini menggunakan strategi divide-and-conquer untuk mengurutkan item data dengan cepat dengan membagi array besar menjadi dua array yang lebih kecil"
   ]
  },
  {
   "cell_type": "code",
   "execution_count": 10,
   "metadata": {},
   "outputs": [
    {
     "name": "stdout",
     "output_type": "stream",
     "text": [
      "[100, 6, 500, 4, 56, 2, 1, 0]\n",
      "[100, 6, 500, 4, 56, 2, 1, 0]\n",
      "[100, 6, 500, 4, 56, 2, 1, 0]\n",
      "[100, 6, 500, 4, 56, 2, 1, 0]\n",
      "[100, 6, 500, 4, 56, 2, 1, 0]\n",
      "[100, 6, 500, 4, 56, 2, 1, 0]\n",
      "[100, 6, 500, 4, 56, 2, 1, 0]\n",
      "[0, 6, 500, 4, 56, 2, 1, 100]\n",
      "[0, 6, 500, 4, 56, 2, 1, 100]\n",
      "[0, 6, 500, 4, 56, 2, 1, 100]\n",
      "[0, 6, 4, 500, 56, 2, 1, 100]\n",
      "[0, 6, 4, 56, 500, 2, 1, 100]\n",
      "[0, 6, 4, 56, 2, 500, 1, 100]\n",
      "[0, 6, 4, 56, 2, 1, 100, 500]\n",
      "[0, 6, 4, 56, 2, 1, 100, 500]\n",
      "[0, 6, 4, 56, 2, 1, 100, 500]\n",
      "[0, 6, 4, 56, 2, 1, 100, 500]\n",
      "[0, 1, 4, 56, 2, 6, 100, 500]\n",
      "[0, 1, 4, 56, 2, 6, 100, 500]\n",
      "[0, 1, 4, 56, 2, 6, 100, 500]\n",
      "[0, 1, 4, 2, 6, 56, 100, 500]\n"
     ]
    }
   ],
   "source": [
    "def QuickSortAwal(A):\n",
    "    QuickSort(A,0,len(A)-1)\n",
    "\n",
    "def QuickSort(A,start,end):\n",
    "    if start<end:\n",
    "        pIndex = Partition(A,start,end)\n",
    "        QuickSort (A,start,pIndex-1)\n",
    "        QuickSort (A,pIndex+1,end)\n",
    "\n",
    "def Partition(A,start,end):\n",
    "    pivot = A[end]\n",
    "    pIndex = start\n",
    "    for i in range(start,end):\n",
    "        print(A)\n",
    "        if (A[i] <= pivot):\n",
    "            A[i],A[pIndex]=A[pIndex],A[i]\n",
    "            pIndex=pIndex+1\n",
    "    A[pIndex],A[end]=A[end],A[pIndex]\n",
    "    return pIndex\n",
    "\n",
    "A=[100,6,500,4,56,2,1,0]\n",
    "QuickSortAwal(A)"
   ]
  },
  {
   "cell_type": "markdown",
   "metadata": {},
   "source": [
    "5. merged sort\n",
    "    adalah algoritma Divide and Conquer. Ini membagi array input dalam dua bagian, memanggil dirinya untuk dua bagian dan kemudian menggabungkan dua bagian yang diurutkan. Fungsi gabungan () digunakan untuk menggabungkan dua bagian."
   ]
  },
  {
   "cell_type": "code",
   "execution_count": 13,
   "metadata": {},
   "outputs": [
    {
     "name": "stdout",
     "output_type": "stream",
     "text": [
      "[54, 26, 93, 17, 99, 77, 31, 44, 55, 20, 100]\n",
      "[54, 26, 93, 17, 99, 77, 31, 44, 55, 20, 100]\n",
      "[54, 26, 93, 17, 99, 77, 31, 44, 55, 20, 100]\n",
      "[54, 26, 93, 17, 99, 77, 31, 44, 55, 20, 100]\n",
      "[54, 26, 93, 17, 99, 77, 31, 44, 55, 20, 100]\n",
      "[54, 26, 93, 17, 99, 77, 31, 44, 55, 20, 100]\n",
      "[54, 26, 93, 17, 99, 77, 31, 44, 55, 20, 100]\n",
      "[54, 26, 93, 17, 99, 77, 31, 44, 55, 20, 100]\n",
      "[54, 26, 93, 17, 99, 77, 31, 44, 55, 20, 100]\n",
      "[54, 26, 93, 17, 99, 77, 31, 44, 55, 20, 100]\n",
      "[54, 26, 93, 17, 99, 77, 31, 44, 55, 20, 100]\n",
      "[54, 26, 93, 17, 99, 77, 31, 44, 55, 20, 100]\n",
      "[54, 26, 93, 17, 99, 77, 31, 44, 55, 20, 100]\n",
      "[54, 26, 93, 17, 99, 77, 31, 44, 55, 20, 100]\n",
      "[54, 26, 93, 17, 99, 77, 31, 44, 55, 20, 100]\n",
      "[54, 26, 93, 17, 99, 77, 31, 44, 55, 20, 100]\n",
      "[54, 26, 93, 17, 99, 77, 31, 44, 55, 20, 100]\n",
      "[54, 26, 93, 17, 99, 77, 31, 44, 55, 20, 100]\n",
      "[54, 26, 93, 17, 99, 77, 31, 44, 55, 20, 100]\n",
      "[17, 26, 93, 17, 99, 77, 31, 44, 55, 20, 100]\n",
      "[17, 20, 93, 17, 99, 77, 31, 44, 55, 20, 100]\n",
      "[17, 20, 26, 17, 99, 77, 31, 44, 55, 20, 100]\n",
      "[17, 20, 26, 31, 99, 77, 31, 44, 55, 20, 100]\n",
      "[17, 20, 26, 31, 44, 77, 31, 44, 55, 20, 100]\n",
      "[17, 20, 26, 31, 44, 54, 31, 44, 55, 20, 100]\n",
      "[17, 20, 26, 31, 44, 54, 55, 44, 55, 20, 100]\n",
      "[17, 20, 26, 31, 44, 54, 55, 77, 55, 20, 100]\n",
      "[17, 20, 26, 31, 44, 54, 55, 77, 93, 20, 100]\n"
     ]
    }
   ],
   "source": [
    "def MergedSort(A):\n",
    "    n = len(A)\n",
    "    if (n<2):\n",
    "        return\n",
    "    mid = len(A)//2\n",
    "    left = A[:mid]\n",
    "    right = A[mid:]\n",
    "    MergedSort(left)\n",
    "    MergedSort(right)\n",
    "    i=0\n",
    "    j=0\n",
    "    k=0\n",
    "    while i < len(left) and j < len(right):\n",
    "        print (Alist)\n",
    "        if left[i] < right[j]:\n",
    "            A[k]=left[i]\n",
    "            i=i+1\n",
    "        else:\n",
    "            A[k]=right[j]\n",
    "            j=j+1\n",
    "        k=k+1\n",
    "\n",
    "    while i < len(left):\n",
    "        A[k]=left[i]\n",
    "        i=i+1\n",
    "        k=k+1\n",
    "\n",
    "    while j < len(right):\n",
    "        A[k]=right[j]\n",
    "        j=j+1\n",
    "        k=k+1\n",
    "\n",
    "Alist= [54,26,93,17,99,77,31,44,55,20,100]\n",
    "MergedSort(Alist)"
   ]
  },
  {
   "cell_type": "markdown",
   "metadata": {},
   "source": [
    "6. shell sort\n",
    "    Hal ini dapat dilihat sebagai generalisasi penyortiran dengan pertukaran (bubble sort) atau penyortiran dengan penyisipan (insertion sort). Metode ini dimulai dengan menyortir pasangan elemen yang berjauhan satu sama lain, kemudian secara progresif mengurangi kesenjangan antara elemen yang akan dibandingkan. Dimulai dengan elemen berjauhan, ia dapat memindahkan beberapa elemen out-of-place ke posisi lebih cepat dari pertukaran tetangga terdekat yang sederhana."
   ]
  },
  {
   "cell_type": "code",
   "execution_count": 5,
   "metadata": {},
   "outputs": [
    {
     "name": "stdout",
     "output_type": "stream",
     "text": [
      "After increments of size 4 The list is [14, 41, 43, 21, 57, 46, 45, 27, 70]\n",
      "After increments of size 2 The list is [14, 21, 43, 27, 45, 41, 57, 46, 70]\n",
      "After increments of size 1 The list is [14, 21, 27, 41, 43, 45, 46, 57, 70]\n",
      "[14, 21, 27, 41, 43, 45, 46, 57, 70]\n"
     ]
    }
   ],
   "source": [
    "def shellSort(alist):\n",
    "    sublistcount = len(alist)//2\n",
    "    while sublistcount > 0:\n",
    "      for start_position in range(sublistcount):\n",
    "        gap_InsertionSort(alist, start_position, sublistcount)\n",
    "\n",
    "      print(\"After increments of size\",sublistcount, \"The list is\",nlist)\n",
    "\n",
    "      sublistcount = sublistcount // 2\n",
    "\n",
    "def gap_InsertionSort(nlist,start,gap):\n",
    "    for i in range(start+gap,len(nlist),gap):\n",
    "\n",
    "        current_value = nlist[i]\n",
    "        position = i\n",
    "\n",
    "        while position>=gap and nlist[position-gap]>current_value:\n",
    "            nlist[position]=nlist[position-gap]\n",
    "            position = position-gap\n",
    "\n",
    "        nlist[position]=current_value\n",
    "\n",
    "\n",
    "nlist = [14,46,43,27,57,41,45,21,70]\n",
    "shellSort(nlist)\n",
    "print(nlist)"
   ]
  }
 ],
 "metadata": {
  "kernelspec": {
   "display_name": "Python 3",
   "language": "python",
   "name": "python3"
  },
  "language_info": {
   "codemirror_mode": {
    "name": "ipython",
    "version": 3
   },
   "file_extension": ".py",
   "mimetype": "text/x-python",
   "name": "python",
   "nbconvert_exporter": "python",
   "pygments_lexer": "ipython3",
   "version": "3.7.1"
  }
 },
 "nbformat": 4,
 "nbformat_minor": 2
}
